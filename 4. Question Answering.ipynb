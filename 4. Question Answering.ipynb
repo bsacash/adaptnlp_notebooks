{
  "nbformat": 4,
  "nbformat_minor": 0,
  "metadata": {
    "colab": {
      "name": "4. Question Answering.ipynb",
      "provenance": [],
      "collapsed_sections": []
    },
    "kernelspec": {
      "name": "python3",
      "display_name": "Python 3"
    },
    "accelerator": "GPU"
  },
  "cells": [
    {
      "cell_type": "markdown",
      "metadata": {
        "id": "SbZY-6pdUOdU"
      },
      "source": [
        "**Make sure the runtime type is set to GPU**"
      ]
    },
    {
      "cell_type": "code",
      "metadata": {
        "id": "DVasFXeIVKzk"
      },
      "source": [
        "import requests\n",
        "r = requests.get(\"https://en.wikipedia.org/api/rest_v1/page/summary/United_States\")\n",
        "page = r.json()\n",
        "text = page[\"extract\"]"
      ],
      "execution_count": null,
      "outputs": []
    }
  ]
}