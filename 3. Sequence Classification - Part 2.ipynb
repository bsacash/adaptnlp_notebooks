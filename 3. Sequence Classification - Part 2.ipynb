{
  "nbformat": 4,
  "nbformat_minor": 0,
  "metadata": {
    "colab": {
      "name": "3. Sequence Classification - Part 2.ipynb",
      "provenance": [],
      "collapsed_sections": []
    },
    "kernelspec": {
      "name": "python3",
      "display_name": "Python 3"
    },
    "accelerator": "GPU"
  },
  "cells": [
    {
      "cell_type": "markdown",
      "metadata": {
        "id": "fs7zHWSPanU-"
      },
      "source": [
        "**Make sure the runtime type is set to GPU**"
      ]
    },
    {
      "cell_type": "markdown",
      "metadata": {
        "id": "aD2pSs4Otki1"
      },
      "source": [
        "So far, we have been loading pretrained models to classifiy our text. If we had our own dataset with text/label pairs we could create our own sequence classification model.\n",
        "\n",
        "With the easy sequence classifier, we can use transfer learning by fine-tuning a pretrained model on our own custom dataset.\n",
        "\n",
        "Here we will be starting with the previously used \"*nlptown/bert-base-multilingual-uncased-sentiment*\" model, but finetune it on the IMDB Sentiment dataset. This will use what the model has already leanred about sentiment but refine it on movie review sentiment."
      ]
    },
    {
      "cell_type": "markdown",
      "metadata": {
        "id": "NKQDmdoxjYbx"
      },
      "source": [
        "We will need a dataset to start training our model. We can use either a `datasets.Dataset` object or a CSV data file path.  We will use the `datasets.load_dataset()` method here to load in the IMDB Sentiment dataset."
      ]
    },
    {
      "cell_type": "code",
      "metadata": {
        "id": "Ctw3KLbjrP39"
      },
      "source": [
        "multiple_text = [\n",
        "\"\"\"\n",
        "I got my camera three days back, and although i had some experience with digital cameras prior to purchasing this one, i still rate myself as a beginner. I bought this camera because it fit my budget and the pre-production and production model reviews were positive. It's easy to use, and yet very feature rich. In the auto mode it functions basically as a point and click, the scene modes are very easy to use and produce good results. The manual mode is feature rich and i can't wait to get the hang of it. The macro mode is exceptional, the pictures are very clear and you can take the pictures with the lens unbelievably close the subject. The battery life is very good, i got about 90 minutes with the lcd turned on all the time, the first time around, and i have been using it with the lcd off every now and then, and have yet needed to recharge it. The camera comes with a lexar 16mb starter card, which stores about 10 images in fine mode at the highest resolution, i intend to buy a bigger card soon.\n",
        "\"\"\",\n",
        "\"\"\"\n",
        "I love photography. I had an older camera that was simply a point and shoot camera. I needed something with more power, so i bought a nikon coolpix 4300. I fell in love with this camera, it combines ease of use, with an immense amount of options and power. You can use the scene modes, or fine tune the options, i. you can change the iso level, shutter speed, etc. This camera is ideal for people who want more power, but don’t want to spend 1000s dollars on a camera.\n",
        "\"\"\",\n",
        "\"\"\"\n",
        "I bought coolpix 4300 two months after i had bought canon powershot s400. It was not easy sharing one with my teen age kid. The two cameras are very similar in functionality and pricing. I've had no problem with canon whatsoever. With nikon, although picture qualities are as good as any other 4 mp cameras, i've had the following headaches. Pictures won't transfer to pc directly from the camera using the included transfer cable. I did everything i could, and it took many days of frustration before concluding that the only way to transfer to pc is with the card reader. The speed is noticeably slower than canon, especially so with flashes on. With low battery, it twice wiped out the entire pictures in the memory chip. I used lexar 256 mb and i still use it which means nothing is wrong with lexar. Be very careful when the battery is low and make sure to carry extra batteries.\n",
        "\"\"\",\n",
        "\"\"\"\n",
        "Within a year, there are problems with my menu dial knob. It became stuck which makes it almost impossible to switch between modes. I send my camera to nikon for servicing, took them a whole 6 weeks to diagnose the problem. Worse of all, they claim that it's some kind of internal damage and refuse to cover the cost via warranty! They wouldn't repair my camera unless if i pay $100 for parts? and labor! It is a good camera in terms of the function and quality, but take your chance with it because nikon absolutely sucks when it comes to customer service.\n",
        "\"\"\",\n",
        "\"\"\"\n",
        "Got a \"system error\" problem 30 days after purchase. Made the camera totally inoperable. Also, the lens cap design is flawed. You have to manually Audio on video also lacking. Otherwise, it takes very good pictures; shutter delay is not so bad either. Still, had to send it back to nikon for repair.\n",
        "\"\"\"\n",
        "]"
      ],
      "execution_count": null,
      "outputs": []
    }
  ]
}